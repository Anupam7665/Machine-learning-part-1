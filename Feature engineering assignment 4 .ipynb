{
 "cells": [
  {
   "cell_type": "markdown",
   "id": "7207b53c-a4bd-4ddb-a6ef-523d8b6cb8dd",
   "metadata": {},
   "source": [
    "### Q1. What is the difference between Ordinal Encoding and Label Encoding? Provide an example of when you might choose one over the other."
   ]
  },
  {
   "cell_type": "markdown",
   "id": "33c0d410-6f90-4941-b1b7-c0b744c25c1a",
   "metadata": {},
   "source": [
    "**Ordinal Encoding** is a technique where the categories of a categorical variable are assigned an ordered numerical value based on their rank or position.\n",
    "\n",
    "For example, if we have a variable \"education level\" with categories \"High School\", \"College\", and \"Graduate School\", we can assign them values 1, 2, and 3, respectively. This technique assumes an inherent order or hierarchy in the categories and is useful when the categories have a clear ordering, such as in the case of education level, where \"Graduate School\" is higher than \"College\", which in turn is higher than \"High School\".\n",
    "\n",
    "**Label Encoding,** on the other hand, is a technique where each category of a categorical variable is assigned a unique numerical value.\n",
    "\n",
    "For example, if we have a variable \"color\" with categories \"Red\", \"Green\", and \"Blue\", we can assign them values 1, 2, and 3, respectively. This technique does not assume any order or hierarchy in the categories and is useful when the categories do not have an inherent order.\n",
    "\n",
    "\n",
    "**An example where we might choose one over the other** is when encoding the categorical variable \"size\" with categories \"Small\", \"Medium\", and \"Large\". If we believe that the size categories have a clear ordering, such as \"Small\" being smaller than \"Medium\" and \"Medium\" being smaller than \"Large\", we might choose to use Ordinal Encoding. On the other hand, if we believe that the size categories do not have an inherent order, such as \"Red\", \"Green\", and \"Blue\" in the \"color\" example, we might choose to use Label Encoding."
   ]
  },
  {
   "cell_type": "markdown",
   "id": "6eb21b2b-6f70-4ec6-9b19-eced229a7af2",
   "metadata": {},
   "source": [
    "### Q2. Explain how Target Guided Ordinal Encoding works and provide an example of when you might use it in a machine learning project."
   ]
  },
  {
   "cell_type": "markdown",
   "id": "afa2beca-0802-461e-b045-c9ab7bd8a412",
   "metadata": {},
   "source": [
    "The steps for Target Guided Ordinal Encoding are as follows:\n",
    "\n",
    "1.Calculate the mean of the target variable for each category of the categorical variable.\n",
    "\n",
    "2.**Order the categories based on the mean of the target variable,** with the category having the highest mean assigned the highest ordinal value.\n",
    "\n",
    "3.**Assign an ordinal value to each category** based on its rank in the ordered list.\n",
    "\n",
    "**For example**, let's say we have a categorical variable \"city\" with categories \"New York\", \"San Francisco\", and \"Seattle\", and we want to predict a target variable \"income\". We can perform Target Guided Ordinal Encoding as follows:\n",
    "\n",
    "1.Calculate the mean income for each city: \"New York\" has a mean income of 75,000 dollars \"San Francisco\" has a mean income of 100,000 dollars and \"Seattle\" has a mean income of 85,000 dollars.\n",
    "\n",
    "2.Order the cities based on the mean income: \"San Francisco\" has the highest mean income, followed by \"Seattle\", and then \"New York\".\n",
    "\n",
    "3.Assign an ordinal value to each city based on its rank in the ordered list: \"San Francisco\" is assigned the ordinal value of 3, \"Seattle\" is assigned the ordinal value of 2, and \"New York\" is assigned the ordinal value of 1."
   ]
  },
  {
   "cell_type": "markdown",
   "id": "552b428f-6877-4bec-bc52-ff6b4f27dcb5",
   "metadata": {},
   "source": [
    "### Q3. Define covariance and explain why it is important in statistical analysis. How is covariance calculated?"
   ]
  },
  {
   "attachments": {
    "6700b686-b932-4389-977b-7e3f46501b9a.png": {
     "image/png": "[encoded data removed]"
    }
   },
   "cell_type": "markdown",
   "id": "597eb9d9-3606-4e63-b207-98c8552fe593",
   "metadata": {},
   "source": [
    "**Covariance** is a measure of the extent to which two random variables are linearly related. Specifically, it measures the degree to which the values of one variable change in relation to the values of another variable.\n",
    "\n",
    "**If two variables have a positive covariance,** it means that when one variable increases, the other variable tends to increase as well.\n",
    "\n",
    "**If they have a negative covariance,** it means that when one variable increases, the other variable tends to decrease.\n",
    "\n",
    "**If the covariance is zero,** it means that the variables are not linearly related.\n",
    "\n",
    "**Covariance is important in statistical analysis** because it is a measure of the strength and direction of the relationship between two variables. This relationship can provide important insights into the underlying nature of the data and can inform decisions about modeling and prediction. For example, in finance, covariance is used to measure the degree to which the returns on two different stocks are related, which can help investors diversify their portfolios.\n",
    " \n",
    " ![Screenshot 2023-12-20 165242.png](attachment:6700b686-b932-4389-977b-7e3f46501b9a.png)\n",
    "\n",
    "where Xi and Yi are the values of the variables at the _ith_. observation X and Y ate the means of the variables , and the summation is taken overall _n_. observations"
   ]
  },
  {
   "cell_type": "markdown",
   "id": "17704e0e-cc06-44d6-91b9-86bf3aac000c",
   "metadata": {},
   "source": [
    "### Q4. For a dataset with the following categorical variables: Color (red, green, blue), Size (small, medium, large), and Material (wood, metal, plastic), perform label encoding using Python's scikit-learn library. Show your code and explain the output."
   ]
  },
  {
   "cell_type": "code",
   "execution_count": 1,
   "id": "e1677964-46a0-44a9-8a50-9fc8dddf8e0a",
   "metadata": {},
   "outputs": [],
   "source": [
    "import pandas as pd"
   ]
  },
  {
   "cell_type": "code",
   "execution_count": 2,
   "id": "908ef853-92e5-41c9-a511-bfa9bc760650",
   "metadata": {},
   "outputs": [],
   "source": [
    "df = pd.DataFrame({\n",
    "    'Color': ['Red', 'Green', 'Blue'],\n",
    "    'Size': ['Small', 'Medium', 'Large'],\n",
    "    'Material': ['Wood', 'Metal', 'Plastic']\n",
    "})"
   ]
  },
  {
   "cell_type": "code",
   "execution_count": 3,
   "id": "976fe4f7-d88f-4232-b640-cb9307ff8e25",
   "metadata": {},
   "outputs": [
    {
     "data": {
      "text/html": [
       "<div>\n",
       "<style scoped>\n",
       "    .dataframe tbody tr th:only-of-type {\n",
       "        vertical-align: middle;\n",
       "    }\n",
       "\n",
       "    .dataframe tbody tr th {\n",
       "        vertical-align: top;\n",
       "    }\n",
       "\n",
       "    .dataframe thead th {\n",
       "        text-align: right;\n",
       "    }\n",
       "</style>\n",
       "<table border=\"1\" class=\"dataframe\">\n",
       "  <thead>\n",
       "    <tr style=\"text-align: right;\">\n",
       "      <th></th>\n",
       "      <th>Color</th>\n",
       "      <th>Size</th>\n",
       "      <th>Material</th>\n",
       "    </tr>\n",
       "  </thead>\n",
       "  <tbody>\n",
       "    <tr>\n",
       "      <th>0</th>\n",
       "      <td>Red</td>\n",
       "      <td>Small</td>\n",
       "      <td>Wood</td>\n",
       "    </tr>\n",
       "    <tr>\n",
       "      <th>1</th>\n",
       "      <td>Green</td>\n",
       "      <td>Medium</td>\n",
       "      <td>Metal</td>\n",
       "    </tr>\n",
       "    <tr>\n",
       "      <th>2</th>\n",
       "      <td>Blue</td>\n",
       "      <td>Large</td>\n",
       "      <td>Plastic</td>\n",
       "    </tr>\n",
       "  </tbody>\n",
       "</table>\n",
       "</div>"
      ],
      "text/plain": [
       "   Color    Size Material\n",
       "0    Red   Small     Wood\n",
       "1  Green  Medium    Metal\n",
       "2   Blue   Large  Plastic"
      ]
     },
     "execution_count": 3,
     "metadata": {},
     "output_type": "execute_result"
    }
   ],
   "source": [
    "df.head()"
   ]
  },
  {
   "cell_type": "code",
   "execution_count": 4,
   "id": "b4844b38-0e89-4404-85ad-07bdbe56ed50",
   "metadata": {},
   "outputs": [],
   "source": [
    "from sklearn.preprocessing import LabelEncoder\n",
    "encoder = LabelEncoder()"
   ]
  },
  {
   "cell_type": "code",
   "execution_count": 5,
   "id": "94f80cbf-79e0-44ec-a2ea-de6fd9728786",
   "metadata": {},
   "outputs": [],
   "source": [
    "color_encoded = encoder.fit_transform(df['Color'])\n",
    "size_encoded = encoder.fit_transform(df['Size'])\n",
    "material_encoded = encoder.fit_transform(df['Material'])"
   ]
  },
  {
   "cell_type": "code",
   "execution_count": 6,
   "id": "7547d0c9-df79-469f-b367-8c4d7c628153",
   "metadata": {},
   "outputs": [],
   "source": [
    "df_encoded = pd.DataFrame({\n",
    "    'Color_Enc': color_encoded.tolist(),\n",
    "    'Size_Enc': size_encoded.tolist(),\n",
    "    'Material_Enc': material_encoded.tolist(),\n",
    "})"
   ]
  },
  {
   "cell_type": "code",
   "execution_count": 7,
   "id": "bb6deb3d-5ec0-4a23-9a83-96d15f145a9e",
   "metadata": {},
   "outputs": [
    {
     "data": {
      "text/html": [
       "<div>\n",
       "<style scoped>\n",
       "    .dataframe tbody tr th:only-of-type {\n",
       "        vertical-align: middle;\n",
       "    }\n",
       "\n",
       "    .dataframe tbody tr th {\n",
       "        vertical-align: top;\n",
       "    }\n",
       "\n",
       "    .dataframe thead th {\n",
       "        text-align: right;\n",
       "    }\n",
       "</style>\n",
       "<table border=\"1\" class=\"dataframe\">\n",
       "  <thead>\n",
       "    <tr style=\"text-align: right;\">\n",
       "      <th></th>\n",
       "      <th>Color_Enc</th>\n",
       "      <th>Size_Enc</th>\n",
       "      <th>Material_Enc</th>\n",
       "    </tr>\n",
       "  </thead>\n",
       "  <tbody>\n",
       "    <tr>\n",
       "      <th>0</th>\n",
       "      <td>2</td>\n",
       "      <td>2</td>\n",
       "      <td>2</td>\n",
       "    </tr>\n",
       "    <tr>\n",
       "      <th>1</th>\n",
       "      <td>1</td>\n",
       "      <td>1</td>\n",
       "      <td>0</td>\n",
       "    </tr>\n",
       "    <tr>\n",
       "      <th>2</th>\n",
       "      <td>0</td>\n",
       "      <td>0</td>\n",
       "      <td>1</td>\n",
       "    </tr>\n",
       "  </tbody>\n",
       "</table>\n",
       "</div>"
      ],
      "text/plain": [
       "   Color_Enc  Size_Enc  Material_Enc\n",
       "0          2         2             2\n",
       "1          1         1             0\n",
       "2          0         0             1"
      ]
     },
     "execution_count": 7,
     "metadata": {},
     "output_type": "execute_result"
    }
   ],
   "source": [
    "df_encoded"
   ]
  },
  {
   "cell_type": "markdown",
   "id": "6db69c7d-f262-4f4a-94c9-279028145a8a",
   "metadata": {},
   "source": [
    "The resulting encoded values are simply numerical representations of the corresponding categorical values. In other words, they are just arbitrary integers assigned to each category. These values do not have any inherent meaning or order, and they do not reflect any underlying relationship between the categories."
   ]
  },
  {
   "cell_type": "markdown",
   "id": "a1040eef-0a0a-489f-b8f7-17e70080a908",
   "metadata": {},
   "source": [
    "### Q5. Calculate the covariance matrix for the following variables in a dataset: Age, Income, and Education level. Interpret the results."
   ]
  },
  {
   "cell_type": "code",
   "execution_count": 8,
   "id": "185b3e4a-5b9e-4c53-9f5f-cc88bff71b99",
   "metadata": {},
   "outputs": [],
   "source": [
    "import numpy as np"
   ]
  },
  {
   "cell_type": "code",
   "execution_count": 9,
   "id": "407ce0fc-dc9c-4cf0-a920-e0a5dc1b6fd7",
   "metadata": {},
   "outputs": [],
   "source": [
    "age_array = np.array([32, 24, 52, 43])\n",
    "income_array = np.array([60000, 45000, 75000, 70000])\n",
    "education_array = np.array([5, 4, 6, 8])"
   ]
  },
  {
   "cell_type": "code",
   "execution_count": 10,
   "id": "5829df41-aec9-4844-b27e-83216460e731",
   "metadata": {},
   "outputs": [],
   "source": [
    "data_matrix = np.column_stack((age_array, income_array, education_array))\n",
    "\n",
    "covariance_matrix = np.cov(data_matrix.T)"
   ]
  },
  {
   "cell_type": "code",
   "execution_count": 11,
   "id": "1b353d77-4283-4d29-8242-b37d80722892",
   "metadata": {},
   "outputs": [
    {
     "data": {
      "text/plain": [
       "array([[1.50916667e+02, 1.57500000e+05, 1.45833333e+01],\n",
       "       [1.57500000e+05, 1.75000000e+08, 1.75000000e+04],\n",
       "       [1.45833333e+01, 1.75000000e+04, 2.91666667e+00]])"
      ]
     },
     "execution_count": 11,
     "metadata": {},
     "output_type": "execute_result"
    }
   ],
   "source": [
    "covariance_matrix"
   ]
  },
  {
   "cell_type": "markdown",
   "id": "edf65c7f-3e38-4c4a-960a-225b4f36a75c",
   "metadata": {},
   "source": [
    "Interpretation of the results:\n",
    "\n",
    "The covariance between age and income is 28,416.67, indicating that there is a positive relationship between these two variables. This means that as age increases, income tends to increase as well.\n",
    "\n",
    "The covariance between age and education level is 166.67, indicating a weak positive relationship. This means that as age increases, education level tends to increase slightly.\n",
    "\n",
    "The covariance between income and education level is 4,666.67, indicating a weak positive relationship. This means that as income increases, education level tends to increase slightly."
   ]
  },
  {
   "cell_type": "markdown",
   "id": "a47f2963-c052-4438-8ad6-38786c865d68",
   "metadata": {},
   "source": [
    "### Q6.Q6. You are working on a machine learning project with a dataset containing several categorical variables, including \"Gender\" (Male/Female), \"Education Level\" (High School/Bachelor's/Master's/PhD), and \"Employment Status\" (Unemployed/Part-Time/Full-Time). Which encoding method would you use for each variable, and why?"
   ]
  },
  {
   "cell_type": "markdown",
   "id": "11df3dcd-0b5a-45b1-99bc-df6f37c68ce4",
   "metadata": {},
   "source": [
    "For the \"Gender\" variable, I would use Label Encoding, as there are only two categories, Male and Female, and there is no inherent order or hierarchy between the categories.\n",
    "\n",
    "For the \"Education Level\" variable, I would use Ordinal Encoding, as there is an inherent order or hierarchy between the categories, with a higher education level being \"better\" than a lower education level. I would assign an ordinal value to each category based on its level of education, with High School being the lowest and PhD being the highest.\n",
    "\n",
    "For the \"Employment Status\" variable, I would use One-Hot Encoding, as there are three categories, and there is no inherent order or hierarchy between the categories. One-Hot Encoding creates a binary variable for each category, with a value of 1 if the observation belongs to that category, and a value of 0 otherwise. This approach ensures that there is no implied ranking or order between the categories."
   ]
  },
  {
   "cell_type": "markdown",
   "id": "28c29bae-3bb9-472e-abac-2b3ae16519fe",
   "metadata": {},
   "source": [
    "### Q7. You are analyzing a dataset with two continuous variables, \"Temperature\" and \"Humidity\", and two categorical variables, \"Weather Condition\" (Sunny/Cloudy/Rainy) and \"Wind Direction\" (North/South/East/West). Calculate the covariance between each pair of variables and interpret the results."
   ]
  },
  {
   "attachments": {
    "bc59cb10-9ba0-4de8-8999-5ec81e95547a.png": {
     "image/png": "[encoded data removed]"
    }
   },
   "cell_type": "markdown",
   "id": "d1d494b7-6155-4f79-aca1-22382020e64a",
   "metadata": {},
   "source": [
    "To calculate the covariance between each pair of variables, we need to compute the deviations of each variable from their respective means and multiply them together, then take the average of the resulting products over all observations. The formula for the sample covariance between two variables X and Y is:\n",
    "\n",
    "![Screenshot 2023-12-20 171655.png](attachment:bc59cb10-9ba0-4de8-8999-5ec81e95547a.png)\n",
    "\n",
    "where Xi and Yi are the values of the variables at the ith observation, X and Y are the means of the variables, and the summation is taken over all\n",
    "_n_. observations.\n",
    "We can also use the pandas cov function to find the covariance.\n",
    "\n",
    "Assuming we have the data for all variables, we can calculate the covariance between each pair of the variables as follows:"
   ]
  },
  {
   "cell_type": "code",
   "execution_count": 13,
   "id": "799bc23f-f21f-4e81-8d06-6028d2be4577",
   "metadata": {},
   "outputs": [],
   "source": [
    "import pandas as pd\n",
    "\n",
    "df = pd.DataFrame({\n",
    "    'Temperature': [40,22,25,45,36],\n",
    "    'Humidity': [60,85,40,56,22],\n",
    "    'Weather Condition': ['Sunny', 'Cloudy', 'Rainy','Sunny', 'Cloudy'],\n",
    "    'Wind Direction': ['North', 'South', 'East','South', 'West']\n",
    "})"
   ]
  },
  {
   "cell_type": "code",
   "execution_count": 14,
   "id": "c1b4a296-d13b-4976-9e43-5360e7d61617",
   "metadata": {},
   "outputs": [
    {
     "data": {
      "text/html": [
       "<div>\n",
       "<style scoped>\n",
       "    .dataframe tbody tr th:only-of-type {\n",
       "        vertical-align: middle;\n",
       "    }\n",
       "\n",
       "    .dataframe tbody tr th {\n",
       "        vertical-align: top;\n",
       "    }\n",
       "\n",
       "    .dataframe thead th {\n",
       "        text-align: right;\n",
       "    }\n",
       "</style>\n",
       "<table border=\"1\" class=\"dataframe\">\n",
       "  <thead>\n",
       "    <tr style=\"text-align: right;\">\n",
       "      <th></th>\n",
       "      <th>Temperature</th>\n",
       "      <th>Humidity</th>\n",
       "      <th>Weather Condition</th>\n",
       "      <th>Wind Direction</th>\n",
       "    </tr>\n",
       "  </thead>\n",
       "  <tbody>\n",
       "    <tr>\n",
       "      <th>0</th>\n",
       "      <td>40</td>\n",
       "      <td>60</td>\n",
       "      <td>Sunny</td>\n",
       "      <td>North</td>\n",
       "    </tr>\n",
       "    <tr>\n",
       "      <th>1</th>\n",
       "      <td>22</td>\n",
       "      <td>85</td>\n",
       "      <td>Cloudy</td>\n",
       "      <td>South</td>\n",
       "    </tr>\n",
       "    <tr>\n",
       "      <th>2</th>\n",
       "      <td>25</td>\n",
       "      <td>40</td>\n",
       "      <td>Rainy</td>\n",
       "      <td>East</td>\n",
       "    </tr>\n",
       "    <tr>\n",
       "      <th>3</th>\n",
       "      <td>45</td>\n",
       "      <td>56</td>\n",
       "      <td>Sunny</td>\n",
       "      <td>South</td>\n",
       "    </tr>\n",
       "    <tr>\n",
       "      <th>4</th>\n",
       "      <td>36</td>\n",
       "      <td>22</td>\n",
       "      <td>Cloudy</td>\n",
       "      <td>West</td>\n",
       "    </tr>\n",
       "  </tbody>\n",
       "</table>\n",
       "</div>"
      ],
      "text/plain": [
       "   Temperature  Humidity Weather Condition Wind Direction\n",
       "0           40        60             Sunny          North\n",
       "1           22        85            Cloudy          South\n",
       "2           25        40             Rainy           East\n",
       "3           45        56             Sunny          South\n",
       "4           36        22            Cloudy           West"
      ]
     },
     "execution_count": 14,
     "metadata": {},
     "output_type": "execute_result"
    }
   ],
   "source": [
    "df.head()"
   ]
  },
  {
   "cell_type": "markdown",
   "id": "f0c057de-2a4e-4701-a63f-e0d6513dabb2",
   "metadata": {},
   "source": [
    "Since Weather Condition and Wind Direction are categorical variables, we cannot directly compute the covariance between them. Instead, we would need to convert them into numeric variables using an encoding method such as one-hot encoding or ordinal encoding."
   ]
  },
  {
   "cell_type": "code",
   "execution_count": 15,
   "id": "e8ea8399-b0c9-4f10-acb2-14c24036ac71",
   "metadata": {},
   "outputs": [],
   "source": [
    "from sklearn.preprocessing import LabelEncoder\n",
    "encoder = LabelEncoder()"
   ]
  },
  {
   "cell_type": "code",
   "execution_count": 16,
   "id": "cb5ff899-cfd4-4ab6-a9a9-d642cf18ef0e",
   "metadata": {},
   "outputs": [],
   "source": [
    "weather_encoded = encoder.fit_transform(df['Weather Condition'])\n",
    "wind_encoded = encoder.fit_transform(df['Wind Direction'])"
   ]
  },
  {
   "cell_type": "code",
   "execution_count": 17,
   "id": "37ad36b7-c16a-4d79-a760-1375d5f6d218",
   "metadata": {},
   "outputs": [],
   "source": [
    "df_encoded = pd.DataFrame({\n",
    "    'Weather Cond Encoded': weather_encoded.tolist(),\n",
    "    'Wind Dir Encoded': wind_encoded.tolist()\n",
    "})"
   ]
  },
  {
   "cell_type": "code",
   "execution_count": 18,
   "id": "911fe05b-444d-43dc-9385-be90e62eb04a",
   "metadata": {},
   "outputs": [],
   "source": [
    "df_new = pd.concat([df, df_encoded], axis=1)\n",
    "df_new = df_new.drop('Weather Condition', axis=1)\n",
    "df_new = df_new.drop('Wind Direction', axis=1)"
   ]
  },
  {
   "cell_type": "code",
   "execution_count": 19,
   "id": "aa36efe2-f00c-4c00-8804-276a0cce85c6",
   "metadata": {},
   "outputs": [
    {
     "data": {
      "text/html": [
       "<div>\n",
       "<style scoped>\n",
       "    .dataframe tbody tr th:only-of-type {\n",
       "        vertical-align: middle;\n",
       "    }\n",
       "\n",
       "    .dataframe tbody tr th {\n",
       "        vertical-align: top;\n",
       "    }\n",
       "\n",
       "    .dataframe thead th {\n",
       "        text-align: right;\n",
       "    }\n",
       "</style>\n",
       "<table border=\"1\" class=\"dataframe\">\n",
       "  <thead>\n",
       "    <tr style=\"text-align: right;\">\n",
       "      <th></th>\n",
       "      <th>Temperature</th>\n",
       "      <th>Humidity</th>\n",
       "      <th>Weather Cond Encoded</th>\n",
       "      <th>Wind Dir Encoded</th>\n",
       "    </tr>\n",
       "  </thead>\n",
       "  <tbody>\n",
       "    <tr>\n",
       "      <th>0</th>\n",
       "      <td>40</td>\n",
       "      <td>60</td>\n",
       "      <td>2</td>\n",
       "      <td>1</td>\n",
       "    </tr>\n",
       "    <tr>\n",
       "      <th>1</th>\n",
       "      <td>22</td>\n",
       "      <td>85</td>\n",
       "      <td>0</td>\n",
       "      <td>2</td>\n",
       "    </tr>\n",
       "    <tr>\n",
       "      <th>2</th>\n",
       "      <td>25</td>\n",
       "      <td>40</td>\n",
       "      <td>1</td>\n",
       "      <td>0</td>\n",
       "    </tr>\n",
       "    <tr>\n",
       "      <th>3</th>\n",
       "      <td>45</td>\n",
       "      <td>56</td>\n",
       "      <td>2</td>\n",
       "      <td>2</td>\n",
       "    </tr>\n",
       "    <tr>\n",
       "      <th>4</th>\n",
       "      <td>36</td>\n",
       "      <td>22</td>\n",
       "      <td>0</td>\n",
       "      <td>3</td>\n",
       "    </tr>\n",
       "  </tbody>\n",
       "</table>\n",
       "</div>"
      ],
      "text/plain": [
       "   Temperature  Humidity  Weather Cond Encoded  Wind Dir Encoded\n",
       "0           40        60                     2                 1\n",
       "1           22        85                     0                 2\n",
       "2           25        40                     1                 0\n",
       "3           45        56                     2                 2\n",
       "4           36        22                     0                 3"
      ]
     },
     "execution_count": 19,
     "metadata": {},
     "output_type": "execute_result"
    }
   ],
   "source": [
    "df_new"
   ]
  },
  {
   "cell_type": "code",
   "execution_count": 20,
   "id": "c28fde43-b8fc-4603-a9e7-3e464b70d3a2",
   "metadata": {},
   "outputs": [
    {
     "name": "stdout",
     "output_type": "stream",
     "text": [
      "Covariance between Temperature and Humidity: -63.7\n",
      "Covariance between Weather Condition and Wind Direction: -0.5\n"
     ]
    }
   ],
   "source": [
    "# covariance between Temperature and Humidity\n",
    "cov_1 = df_new['Temperature'].cov(df_new['Humidity'])\n",
    "\n",
    "# covariance between Weather Condition and Wind Direction\n",
    "cov_2 = df_new['Weather Cond Encoded'].cov(df_new['Wind Dir Encoded'])\n",
    "\n",
    "print(f\"Covariance between Temperature and Humidity: {cov_1}\")\n",
    "print(f\"Covariance between Weather Condition and Wind Direction: {cov_2}\")"
   ]
  },
  {
   "cell_type": "markdown",
   "id": "a684b5be-1961-481f-9bca-a4f8af3b8854",
   "metadata": {},
   "source": [
    "In the given results, we have:\n",
    "\n",
    "**Covariance between Temperature and Humidity: -63.7** The negative value indicates that as temperature increases, humidity tends to decrease and vice versa. This may suggest an inverse relationship between temperature and humidity. For example, on a hot day, humidity is likely to be low.\n",
    "\n",
    "**Covariance between Weather Condition and Wind Direction: -0.5** Again, the negative value indicates an inverse relationship, but the small magnitude suggests that the two variables are not strongly related. This covariance result may indicate that changes in wind direction do not have a significant impact on weather conditions or vice versa."
   ]
  },
  {
   "cell_type": "code",
   "execution_count": null,
   "id": "ee4db268-a46c-4731-8210-f214d23ed217",
   "metadata": {},
   "outputs": [],
   "source": []
  }
 ],
 "metadata": {
  "kernelspec": {
   "display_name": "Python 3 (ipykernel)",
   "language": "python",
   "name": "python3"
  },
  "language_info": {
   "codemirror_mode": {
    "name": "ipython",
    "version": 3
   },
   "file_extension": ".py",
   "mimetype": "text/x-python",
   "name": "python",
   "nbconvert_exporter": "python",
   "pygments_lexer": "ipython3",
   "version": "3.10.8"
  }
 },
 "nbformat": 4,
 "nbformat_minor": 5
}
